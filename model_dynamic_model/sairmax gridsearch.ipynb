{
 "cells": [
  {
   "cell_type": "code",
   "execution_count": null,
   "metadata": {},
   "outputs": [
    {
     "ename": "",
     "evalue": "",
     "output_type": "error",
     "traceback": [
      "\u001b[1;31mRunning cells with 'c:\\Python\\python.exe' requires the ipykernel package.\n",
      "\u001b[1;31mRun the following command to install 'ipykernel' into the Python environment. \n",
      "\u001b[1;31mCommand: 'c:/Python/python.exe -m pip install ipykernel -U --user --force-reinstall'"
     ]
    }
   ],
   "source": [
    "import pandas as pd\n",
    "from statsmodels.tsa.statespace.sarimax import SARIMAX\n",
    "import numpy as np\n",
    "from sklearn.model_selection import train_test_split\n",
    "from statsmodels.tsa.statespace.sarimax import SARIMAX\n",
    "from statsmodels.tsa.stattools import adfuller\n",
    "from sklearn.metrics import mean_squared_error\n",
    "import pickle\n",
    "\n",
    "datetime_features = ['dayofweek', 'month', 'hour', 'minute', 'is_weekend']\n",
    "\n",
    "def get_masked_data(df: pd.DataFrame):\n",
    "    # Define the start and end timestamps\n",
    "    start_timestamp = pd.to_datetime('2023-01-01 08:00:00')\n",
    "    end_timestamp = pd.to_datetime('2023-12-31 08:00:00')\n",
    "\n",
    "    # Create a boolean mask for the specified time range\n",
    "    mask = (df['timestamp'] >= start_timestamp) & (df['timestamp'] < end_timestamp)\n",
    "\n",
    "    # Apply the mask to get the desired slice of the DataFrame\n",
    "    result_df = df[mask]\n",
    "\n",
    "    #filter values that are less then 0 from polygon_1663\n",
    "    result_df = result_df[result_df['polygon_1663'] >= 0]\n",
    "\n",
    "    result_df.fillna(0, inplace=True)\n",
    "\n",
    "    return result_df\n",
    "\n",
    "\n",
    "def to_input(df: pd.DataFrame):\n",
    "    df['polygon_1663'].fillna(0, inplace=True)\n",
    "\n",
    "    return df\n",
    "\n",
    "data = pd.read_parquet(\"../data/rucphen_precipitation_clean.parquet\")\n",
    "data = get_masked_data(data)\n",
    "data = to_input(data)\n",
    "\n",
    "\n"
   ]
  },
  {
   "cell_type": "code",
   "execution_count": 4,
   "metadata": {},
   "outputs": [
    {
     "data": {
      "text/html": [
       "<div>\n",
       "<style scoped>\n",
       "    .dataframe tbody tr th:only-of-type {\n",
       "        vertical-align: middle;\n",
       "    }\n",
       "\n",
       "    .dataframe tbody tr th {\n",
       "        vertical-align: top;\n",
       "    }\n",
       "\n",
       "    .dataframe thead th {\n",
       "        text-align: right;\n",
       "    }\n",
       "</style>\n",
       "<table border=\"1\" class=\"dataframe\">\n",
       "  <thead>\n",
       "    <tr style=\"text-align: right;\">\n",
       "      <th></th>\n",
       "      <th>polygon_1663</th>\n",
       "      <th>percentage</th>\n",
       "    </tr>\n",
       "    <tr>\n",
       "      <th>timestamp</th>\n",
       "      <th></th>\n",
       "      <th></th>\n",
       "    </tr>\n",
       "  </thead>\n",
       "  <tbody>\n",
       "    <tr>\n",
       "      <th>2023-01-01 08:00:00</th>\n",
       "      <td>0.02</td>\n",
       "      <td>7.018</td>\n",
       "    </tr>\n",
       "    <tr>\n",
       "      <th>2023-01-01 08:05:00</th>\n",
       "      <td>0.01</td>\n",
       "      <td>7.018</td>\n",
       "    </tr>\n",
       "    <tr>\n",
       "      <th>2023-01-01 08:10:00</th>\n",
       "      <td>0.00</td>\n",
       "      <td>7.018</td>\n",
       "    </tr>\n",
       "    <tr>\n",
       "      <th>2023-01-01 08:15:00</th>\n",
       "      <td>0.00</td>\n",
       "      <td>7.018</td>\n",
       "    </tr>\n",
       "    <tr>\n",
       "      <th>2023-01-01 08:20:00</th>\n",
       "      <td>0.00</td>\n",
       "      <td>7.018</td>\n",
       "    </tr>\n",
       "  </tbody>\n",
       "</table>\n",
       "</div>"
      ],
      "text/plain": [
       "                     polygon_1663  percentage\n",
       "timestamp                                    \n",
       "2023-01-01 08:00:00          0.02       7.018\n",
       "2023-01-01 08:05:00          0.01       7.018\n",
       "2023-01-01 08:10:00          0.00       7.018\n",
       "2023-01-01 08:15:00          0.00       7.018\n",
       "2023-01-01 08:20:00          0.00       7.018"
      ]
     },
     "execution_count": 4,
     "metadata": {},
     "output_type": "execute_result"
    }
   ],
   "source": [
    "# Use 'polygon_1663' as the feature of interest\n",
    "data.set_index('timestamp', inplace=True)\n",
    "\n",
    "y = data['polygon_1663']\n",
    "\n",
    "data.head()\n"
   ]
  },
  {
   "cell_type": "code",
   "execution_count": 5,
   "metadata": {},
   "outputs": [
    {
     "name": "stdout",
     "output_type": "stream",
     "text": [
      "ADF Statistic: -25.229313\n",
      "p-value: 0.000000\n"
     ]
    }
   ],
   "source": [
    "result = adfuller(y)\n",
    "print('ADF Statistic: %f' % result[0])\n",
    "print('p-value: %f' % result[1])\n"
   ]
  },
  {
   "cell_type": "code",
   "execution_count": 6,
   "metadata": {},
   "outputs": [],
   "source": [
    "split_ratio = 0.8\n",
    "split_index = int(len(y) * split_ratio)\n",
    "\n",
    "train = y[:split_index]\n",
    "test = y[split_index:]\n"
   ]
  },
  {
   "cell_type": "code",
   "execution_count": 7,
   "metadata": {},
   "outputs": [],
   "source": [
    "p = d = q = range(0, 2)  # ARIMA parameters\n",
    "P = D = Q = range(0, 2)  # Seasonal parameters\n",
    "s = 288  # Seasonal period for daily seasonality\n"
   ]
  },
  {
   "cell_type": "code",
   "execution_count": 8,
   "metadata": {},
   "outputs": [],
   "source": [
    "from itertools import product\n",
    "\n",
    "parameters = product(p, d, q, P, D, Q)\n",
    "parameters_list = list(parameters)\n"
   ]
  },
  {
   "cell_type": "code",
   "execution_count": 9,
   "metadata": {},
   "outputs": [
    {
     "name": "stdout",
     "output_type": "stream",
     "text": [
      "ARIMA(0, 0, 0, 0, 0, 0) - AIC:-190676.49989552243\n"
     ]
    }
   ],
   "source": [
    "import warnings\n",
    "from statsmodels.tsa.statespace.sarimax import SARIMAX\n",
    "from sklearn.metrics import mean_squared_error\n",
    "\n",
    "warnings.filterwarnings(\"ignore\")  # Ignore convergence warnings\n",
    "\n",
    "best_aic = float(\"inf\")\n",
    "best_params = None\n",
    "best_model = None\n",
    "\n",
    "for params in parameters_list:\n",
    "    try:\n",
    "        model = SARIMAX(train, order=(params[0], params[1], params[2]),\n",
    "                        seasonal_order=(params[3], params[4], params[5], s)).fit(disp=False)\n",
    "        aic = model.aic\n",
    "        print(f\"ARIMA{params} - AIC:{aic}\")\n",
    "        if aic < best_aic:\n",
    "            best_aic = aic\n",
    "            best_params = params\n",
    "            best_model = model\n",
    "    except:\n",
    "        continue\n",
    "\n",
    "print('Best SARIMAX{}x{}12 model - AIC:{}'.format(best_params[:3], best_params[3:], best_aic))\n"
   ]
  },
  {
   "cell_type": "code",
   "execution_count": null,
   "metadata": {},
   "outputs": [],
   "source": [
    "with open('/home/minorai2/capstone/models/best_sarimax_model.pkl', 'wb') as file:\n",
    "    pickle.dump(best_model, file)"
   ]
  },
  {
   "cell_type": "code",
   "execution_count": null,
   "metadata": {},
   "outputs": [],
   "source": [
    "predictions = best_model.predict(start=test.index[0], end=test.index[-1], dynamic=False)\n",
    "mse = mean_squared_error(test, predictions)\n",
    "print(f'Mean Squared Error: {mse}')\n"
   ]
  }
 ],
 "metadata": {
  "kernelspec": {
   "display_name": "base",
   "language": "python",
   "name": "python3"
  },
  "language_info": {
   "codemirror_mode": {
    "name": "ipython",
    "version": 3
   },
   "file_extension": ".py",
   "mimetype": "text/x-python",
   "name": "python",
   "nbconvert_exporter": "python",
   "pygments_lexer": "ipython3",
   "version": "3.11.5"
  }
 },
 "nbformat": 4,
 "nbformat_minor": 4
}
