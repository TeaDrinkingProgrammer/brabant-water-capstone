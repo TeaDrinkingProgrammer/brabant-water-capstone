{
 "cells": [
  {
   "cell_type": "code",
   "execution_count": 1,
   "metadata": {},
   "outputs": [
    {
     "data": {
      "text/html": [
       "<div>\n",
       "<style scoped>\n",
       "    .dataframe tbody tr th:only-of-type {\n",
       "        vertical-align: middle;\n",
       "    }\n",
       "\n",
       "    .dataframe tbody tr th {\n",
       "        vertical-align: top;\n",
       "    }\n",
       "\n",
       "    .dataframe thead th {\n",
       "        text-align: right;\n",
       "    }\n",
       "</style>\n",
       "<table border=\"1\" class=\"dataframe\">\n",
       "  <thead>\n",
       "    <tr style=\"text-align: right;\">\n",
       "      <th></th>\n",
       "      <th>timestamp</th>\n",
       "      <th>precipitation</th>\n",
       "      <th>percentage</th>\n",
       "    </tr>\n",
       "  </thead>\n",
       "  <tbody>\n",
       "    <tr>\n",
       "      <th>0</th>\n",
       "      <td>2019-01-01 00:00:00</td>\n",
       "      <td>0.000000</td>\n",
       "      <td>7.895</td>\n",
       "    </tr>\n",
       "    <tr>\n",
       "      <th>1</th>\n",
       "      <td>2019-01-01 00:05:00</td>\n",
       "      <td>0.000000</td>\n",
       "      <td>7.895</td>\n",
       "    </tr>\n",
       "    <tr>\n",
       "      <th>2</th>\n",
       "      <td>2019-01-01 00:10:00</td>\n",
       "      <td>0.000000</td>\n",
       "      <td>7.895</td>\n",
       "    </tr>\n",
       "    <tr>\n",
       "      <th>3</th>\n",
       "      <td>2019-01-01 00:15:00</td>\n",
       "      <td>0.000000</td>\n",
       "      <td>7.895</td>\n",
       "    </tr>\n",
       "    <tr>\n",
       "      <th>4</th>\n",
       "      <td>2019-01-01 00:20:00</td>\n",
       "      <td>0.000000</td>\n",
       "      <td>7.895</td>\n",
       "    </tr>\n",
       "    <tr>\n",
       "      <th>...</th>\n",
       "      <td>...</td>\n",
       "      <td>...</td>\n",
       "      <td>...</td>\n",
       "    </tr>\n",
       "    <tr>\n",
       "      <th>498217</th>\n",
       "      <td>2023-10-12 23:35:00</td>\n",
       "      <td>0.010010</td>\n",
       "      <td>2.632</td>\n",
       "    </tr>\n",
       "    <tr>\n",
       "      <th>498218</th>\n",
       "      <td>2023-10-12 23:40:00</td>\n",
       "      <td>0.039978</td>\n",
       "      <td>2.632</td>\n",
       "    </tr>\n",
       "    <tr>\n",
       "      <th>498219</th>\n",
       "      <td>2023-10-12 23:45:00</td>\n",
       "      <td>0.049988</td>\n",
       "      <td>2.632</td>\n",
       "    </tr>\n",
       "    <tr>\n",
       "      <th>498220</th>\n",
       "      <td>2023-10-12 23:50:00</td>\n",
       "      <td>0.039978</td>\n",
       "      <td>2.632</td>\n",
       "    </tr>\n",
       "    <tr>\n",
       "      <th>498221</th>\n",
       "      <td>2023-10-12 23:55:00</td>\n",
       "      <td>0.039978</td>\n",
       "      <td>2.632</td>\n",
       "    </tr>\n",
       "  </tbody>\n",
       "</table>\n",
       "<p>498222 rows × 3 columns</p>\n",
       "</div>"
      ],
      "text/plain": [
       "                 timestamp  precipitation  percentage\n",
       "0      2019-01-01 00:00:00       0.000000       7.895\n",
       "1      2019-01-01 00:05:00       0.000000       7.895\n",
       "2      2019-01-01 00:10:00       0.000000       7.895\n",
       "3      2019-01-01 00:15:00       0.000000       7.895\n",
       "4      2019-01-01 00:20:00       0.000000       7.895\n",
       "...                    ...            ...         ...\n",
       "498217 2023-10-12 23:35:00       0.010010       2.632\n",
       "498218 2023-10-12 23:40:00       0.039978       2.632\n",
       "498219 2023-10-12 23:45:00       0.049988       2.632\n",
       "498220 2023-10-12 23:50:00       0.039978       2.632\n",
       "498221 2023-10-12 23:55:00       0.039978       2.632\n",
       "\n",
       "[498222 rows x 3 columns]"
      ]
     },
     "execution_count": 1,
     "metadata": {},
     "output_type": "execute_result"
    }
   ],
   "source": [
    "import pandas as pd\n",
    "import matplotlib.pyplot as plt\n",
    "import seaborn as sns\n",
    "from sklearn import svm\n",
    "from sklearn.model_selection import train_test_split\n",
    "from sklearn.metrics import mean_squared_error\n",
    "from sklearn.preprocessing import MinMaxScaler\n",
    "\n",
    "df = pd.read_parquet('./data/rucphen_precipitation_clean.parquet')\n",
    "df"
   ]
  },
  {
   "cell_type": "code",
   "execution_count": 2,
   "metadata": {},
   "outputs": [
    {
     "name": "stderr",
     "output_type": "stream",
     "text": [
      "C:\\Users\\Optic\\AppData\\Local\\Temp\\ipykernel_44944\\640309829.py:9: SettingWithCopyWarning: \n",
      "A value is trying to be set on a copy of a slice from a DataFrame\n",
      "\n",
      "See the caveats in the documentation: https://pandas.pydata.org/pandas-docs/stable/user_guide/indexing.html#returning-a-view-versus-a-copy\n",
      "  df.fillna(0, inplace=True)\n"
     ]
    }
   ],
   "source": [
    "start_timestamp = pd.to_datetime('2022-01-01 08:00:00')\n",
    "end_timestamp = pd.to_datetime('2023-01-01 08:00:00')\n",
    "\n",
    "# Create a boolean mask for the specified time range\n",
    "mask = (df['timestamp'] >= start_timestamp) & (df['timestamp'] < end_timestamp)\n",
    "\n",
    "# Apply the mask to get the desired slice of the DataFrame\n",
    "df = df[mask]\n",
    "df.fillna(0, inplace=True)"
   ]
  },
  {
   "cell_type": "code",
   "execution_count": 3,
   "metadata": {},
   "outputs": [
    {
     "ename": "KeyError",
     "evalue": "'polygon_1663'",
     "output_type": "error",
     "traceback": [
      "\u001b[1;31m---------------------------------------------------------------------------\u001b[0m",
      "\u001b[1;31mKeyError\u001b[0m                                  Traceback (most recent call last)",
      "File \u001b[1;32mc:\\Users\\Optic\\anaconda3\\Lib\\site-packages\\pandas\\core\\indexes\\base.py:3653\u001b[0m, in \u001b[0;36mIndex.get_loc\u001b[1;34m(self, key)\u001b[0m\n\u001b[0;32m   3652\u001b[0m \u001b[38;5;28;01mtry\u001b[39;00m:\n\u001b[1;32m-> 3653\u001b[0m     \u001b[38;5;28;01mreturn\u001b[39;00m \u001b[38;5;28mself\u001b[39m\u001b[38;5;241m.\u001b[39m_engine\u001b[38;5;241m.\u001b[39mget_loc(casted_key)\n\u001b[0;32m   3654\u001b[0m \u001b[38;5;28;01mexcept\u001b[39;00m \u001b[38;5;167;01mKeyError\u001b[39;00m \u001b[38;5;28;01mas\u001b[39;00m err:\n",
      "File \u001b[1;32mc:\\Users\\Optic\\anaconda3\\Lib\\site-packages\\pandas\\_libs\\index.pyx:147\u001b[0m, in \u001b[0;36mpandas._libs.index.IndexEngine.get_loc\u001b[1;34m()\u001b[0m\n",
      "File \u001b[1;32mc:\\Users\\Optic\\anaconda3\\Lib\\site-packages\\pandas\\_libs\\index.pyx:176\u001b[0m, in \u001b[0;36mpandas._libs.index.IndexEngine.get_loc\u001b[1;34m()\u001b[0m\n",
      "File \u001b[1;32mpandas\\_libs\\hashtable_class_helper.pxi:7080\u001b[0m, in \u001b[0;36mpandas._libs.hashtable.PyObjectHashTable.get_item\u001b[1;34m()\u001b[0m\n",
      "File \u001b[1;32mpandas\\_libs\\hashtable_class_helper.pxi:7088\u001b[0m, in \u001b[0;36mpandas._libs.hashtable.PyObjectHashTable.get_item\u001b[1;34m()\u001b[0m\n",
      "\u001b[1;31mKeyError\u001b[0m: 'polygon_1663'",
      "\nThe above exception was the direct cause of the following exception:\n",
      "\u001b[1;31mKeyError\u001b[0m                                  Traceback (most recent call last)",
      "Cell \u001b[1;32mIn[3], line 21\u001b[0m\n\u001b[0;32m     19\u001b[0m \u001b[38;5;66;03m# Add lag features for 'precipitation'\u001b[39;00m\n\u001b[0;32m     20\u001b[0m \u001b[38;5;28;01mfor\u001b[39;00m lag \u001b[38;5;129;01min\u001b[39;00m lags:\n\u001b[1;32m---> 21\u001b[0m     df_features[\u001b[38;5;124mf\u001b[39m\u001b[38;5;124m'\u001b[39m\u001b[38;5;124mprecipitation_lag_\u001b[39m\u001b[38;5;132;01m{\u001b[39;00mlag\u001b[38;5;132;01m}\u001b[39;00m\u001b[38;5;124m'\u001b[39m] \u001b[38;5;241m=\u001b[39m df_features[\u001b[38;5;124m'\u001b[39m\u001b[38;5;124mpolygon_1663\u001b[39m\u001b[38;5;124m'\u001b[39m]\u001b[38;5;241m.\u001b[39mshift(lag)\n\u001b[0;32m     23\u001b[0m \u001b[38;5;66;03m# Drop rows with NaN values introduced by the lag operation\u001b[39;00m\n\u001b[0;32m     24\u001b[0m df_features \u001b[38;5;241m=\u001b[39m df_features\u001b[38;5;241m.\u001b[39mdropna()\n",
      "File \u001b[1;32mc:\\Users\\Optic\\anaconda3\\Lib\\site-packages\\pandas\\core\\frame.py:3761\u001b[0m, in \u001b[0;36mDataFrame.__getitem__\u001b[1;34m(self, key)\u001b[0m\n\u001b[0;32m   3759\u001b[0m \u001b[38;5;28;01mif\u001b[39;00m \u001b[38;5;28mself\u001b[39m\u001b[38;5;241m.\u001b[39mcolumns\u001b[38;5;241m.\u001b[39mnlevels \u001b[38;5;241m>\u001b[39m \u001b[38;5;241m1\u001b[39m:\n\u001b[0;32m   3760\u001b[0m     \u001b[38;5;28;01mreturn\u001b[39;00m \u001b[38;5;28mself\u001b[39m\u001b[38;5;241m.\u001b[39m_getitem_multilevel(key)\n\u001b[1;32m-> 3761\u001b[0m indexer \u001b[38;5;241m=\u001b[39m \u001b[38;5;28mself\u001b[39m\u001b[38;5;241m.\u001b[39mcolumns\u001b[38;5;241m.\u001b[39mget_loc(key)\n\u001b[0;32m   3762\u001b[0m \u001b[38;5;28;01mif\u001b[39;00m is_integer(indexer):\n\u001b[0;32m   3763\u001b[0m     indexer \u001b[38;5;241m=\u001b[39m [indexer]\n",
      "File \u001b[1;32mc:\\Users\\Optic\\anaconda3\\Lib\\site-packages\\pandas\\core\\indexes\\base.py:3655\u001b[0m, in \u001b[0;36mIndex.get_loc\u001b[1;34m(self, key)\u001b[0m\n\u001b[0;32m   3653\u001b[0m     \u001b[38;5;28;01mreturn\u001b[39;00m \u001b[38;5;28mself\u001b[39m\u001b[38;5;241m.\u001b[39m_engine\u001b[38;5;241m.\u001b[39mget_loc(casted_key)\n\u001b[0;32m   3654\u001b[0m \u001b[38;5;28;01mexcept\u001b[39;00m \u001b[38;5;167;01mKeyError\u001b[39;00m \u001b[38;5;28;01mas\u001b[39;00m err:\n\u001b[1;32m-> 3655\u001b[0m     \u001b[38;5;28;01mraise\u001b[39;00m \u001b[38;5;167;01mKeyError\u001b[39;00m(key) \u001b[38;5;28;01mfrom\u001b[39;00m \u001b[38;5;21;01merr\u001b[39;00m\n\u001b[0;32m   3656\u001b[0m \u001b[38;5;28;01mexcept\u001b[39;00m \u001b[38;5;167;01mTypeError\u001b[39;00m:\n\u001b[0;32m   3657\u001b[0m     \u001b[38;5;66;03m# If we have a listlike key, _check_indexing_error will raise\u001b[39;00m\n\u001b[0;32m   3658\u001b[0m     \u001b[38;5;66;03m#  InvalidIndexError. Otherwise we fall through and re-raise\u001b[39;00m\n\u001b[0;32m   3659\u001b[0m     \u001b[38;5;66;03m#  the TypeError.\u001b[39;00m\n\u001b[0;32m   3660\u001b[0m     \u001b[38;5;28mself\u001b[39m\u001b[38;5;241m.\u001b[39m_check_indexing_error(key)\n",
      "\u001b[1;31mKeyError\u001b[0m: 'polygon_1663'"
     ]
    }
   ],
   "source": [
    "# Datetime featurs\n",
    "# Extracting features\n",
    "df_features = df.copy()\n",
    "df_features['hour'] = df_features['timestamp'].dt.hour\n",
    "df_features['dayofweek'] = df_features['timestamp'].dt.dayofweek\n",
    "df_features['isweekend'] = df_features['timestamp'].dt.weekday >= 5  # True if it's Saturday or Sunday, False otherwise\n",
    "df_features['month'] = df_features['timestamp'].dt.month\n",
    "\n",
    "df_features['isweekend'] = df_features['isweekend'].astype(int)\n",
    "df_features.drop('timestamp', axis=1, inplace=True)\n",
    "\n",
    "# Lags\n",
    "# Sort the DataFrame by timestamp\n",
    "# df = df.sort_values(by='timestamp')\n",
    "\n",
    "# Define the lags you want\n",
    "lags = [1, 2, 3, 6]\n",
    "\n",
    "# Add lag features for 'precipitation'\n",
    "for lag in lags:\n",
    "    df_features[f'precipitation_lag_{lag}'] = df_features['precipitation'].shift(lag)\n",
    "\n",
    "# Drop rows with NaN values introduced by the lag operation\n",
    "df_features = df_features.dropna()\n",
    "\n",
    "# Reset index if needed\n",
    "df_features = df_features.reset_index(drop=True)\n",
    "\n",
    "\n",
    "df_features.head()"
   ]
  },
  {
   "cell_type": "code",
   "execution_count": null,
   "metadata": {},
   "outputs": [],
   "source": [
    "# Extract features and target from the DataFrame\n",
    "X = df_features.loc[:, df_features.columns != 'percentage']\n",
    "y = df_features['percentage']\n",
    "\n",
    "# # Convert to PyTorch tensors\n",
    "# X = torch.tensor(X.values, dtype=torch.float32)\n",
    "# y = torch.tensor(y.values, dtype=torch.float32)\n",
    "\n",
    "# Split the data into training and testing sets\n",
    "X_train, X_test, y_train, y_test = train_test_split(X, y, test_size=0.2, shuffle=False)\n",
    "\n",
    "# Standardize Data\n",
    "scaler = MinMaxScaler()\n",
    "X_train_scaled = scaler.fit_transform(X_train)\n",
    "X_test_scaled = scaler.transform(X_test)\n"
   ]
  },
  {
   "cell_type": "code",
   "execution_count": null,
   "metadata": {},
   "outputs": [
    {
     "data": {
      "application/vnd.jupyter.widget-view+json": {
       "model_id": "98164e5262f54377a1264d5b51fc0beb",
       "version_major": 2,
       "version_minor": 0
      },
      "text/plain": [
       "Optimization Progress:   0%|          | 0/550 [00:00<?, ?pipeline/s]"
      ]
     },
     "metadata": {},
     "output_type": "display_data"
    },
    {
     "name": "stdout",
     "output_type": "stream",
     "text": [
      "\n",
      "Generation 1 - Current best internal CV score: -0.12988916401986592\n",
      "\n",
      "Generation 2 - Current best internal CV score: -0.10840070008416072\n",
      "\n",
      "Generation 3 - Current best internal CV score: -0.10683504035391973\n",
      "\n",
      "Generation 4 - Current best internal CV score: -0.10683504035391973\n",
      "\n",
      "Generation 5 - Current best internal CV score: -0.10683504035391973\n",
      "\n",
      "Generation 6 - Current best internal CV score: -0.10683504035391973\n",
      "\n",
      "Generation 7 - Current best internal CV score: -0.10683504035391973\n",
      "\n",
      "Generation 8 - Current best internal CV score: -0.10469700114651836\n",
      "\n",
      "Generation 9 - Current best internal CV score: -0.10469700114651836\n",
      "\n",
      "Generation 10 - Current best internal CV score: -0.10462254361904769\n",
      "\n",
      "Best pipeline: AdaBoostRegressor(Nystroem(PolynomialFeatures(input_matrix, degree=2, include_bias=False, interaction_only=False), gamma=0.45, kernel=laplacian, n_components=9), learning_rate=0.1, loss=exponential, n_estimators=100)\n",
      "-0.0002560000000000004\n"
     ]
    }
   ],
   "source": [
    "from tpot import TPOTRegressor\n",
    "from sklearn.model_selection import train_test_split\n",
    "import pandas as pd\n",
    "\n",
    "# Create and configure the TPOT regressor\n",
    "tpot_regressor = TPOTRegressor(generations=10, population_size=50, verbosity=2, random_state=42)\n",
    "\n",
    "# Fit the TPOT regressor to the training data\n",
    "tpot_regressor.fit(X_train, y_train)\n",
    "\n",
    "# Score the accuracy on the test set\n",
    "print(tpot_regressor.score(X_test, y_test))\n",
    "\n",
    "# Export the best pipeline as a Python script\n",
    "tpot_regressor.export('tpot_boston_pipeline.py')\n"
   ]
  },
  {
   "cell_type": "code",
   "execution_count": null,
   "metadata": {},
   "outputs": [],
   "source": [
    "import numpy as np\n",
    "import pandas as pd\n",
    "from sklearn.ensemble import AdaBoostRegressor\n",
    "from sklearn.kernel_approximation import Nystroem\n",
    "from sklearn.model_selection import train_test_split\n",
    "from sklearn.pipeline import make_pipeline\n",
    "from sklearn.preprocessing import PolynomialFeatures\n",
    "from tpot.export_utils import set_param_recursive\n",
    "\n",
    "# Average CV score on the training set was: -0.10462254361904769\n",
    "exported_pipeline = make_pipeline(\n",
    "    PolynomialFeatures(degree=2, include_bias=False, interaction_only=False),\n",
    "    Nystroem(gamma=0.45, kernel=\"laplacian\", n_components=9),\n",
    "    AdaBoostRegressor(learning_rate=0.1, loss=\"exponential\", n_estimators=100)\n",
    ")\n",
    "# Fix random state for all the steps in exported pipeline\n",
    "set_param_recursive(exported_pipeline.steps, 'random_state', 42)\n",
    "\n",
    "exported_pipeline.fit(X_train, y_train)\n",
    "results = exported_pipeline.predict(X_test)\n"
   ]
  },
  {
   "cell_type": "code",
   "execution_count": null,
   "metadata": {},
   "outputs": [
    {
     "name": "stdout",
     "output_type": "stream",
     "text": [
      "Predicted: 7.03, Actual: 7.02\n",
      "Predicted: 7.03, Actual: 7.02\n",
      "Predicted: 7.03, Actual: 7.02\n",
      "Predicted: 7.03, Actual: 7.02\n",
      "Predicted: 7.03, Actual: 7.02\n",
      "Predicted: 7.03, Actual: 7.02\n",
      "Predicted: 7.03, Actual: 7.02\n",
      "Predicted: 7.03, Actual: 7.02\n",
      "Predicted: 7.03, Actual: 7.02\n",
      "Predicted: 7.03, Actual: 7.02\n",
      "Predicted: 7.03, Actual: 7.02\n",
      "Predicted: 7.03, Actual: 7.02\n",
      "Predicted: 7.03, Actual: 7.02\n",
      "Predicted: 7.03, Actual: 7.02\n",
      "Predicted: 7.03, Actual: 7.02\n",
      "Predicted: 7.03, Actual: 7.02\n",
      "Predicted: 7.03, Actual: 7.02\n",
      "Predicted: 7.03, Actual: 7.02\n"
     ]
    }
   ],
   "source": [
    "for i in range(0, len(results)):\n",
    "    print(f\"Predicted: {results[i]:.2f}, Actual: {y_test.iloc[i]:.2f}\")"
   ]
  },
  {
   "cell_type": "code",
   "execution_count": null,
   "metadata": {},
   "outputs": [
    {
     "name": "stdout",
     "output_type": "stream",
     "text": [
      "Mean Squared Error (MSE): 0.00\n"
     ]
    }
   ],
   "source": [
    "mse = mean_squared_error(y_test, results)\n",
    "\n",
    "print(f\"Mean Squared Error (MSE): {mse:.2f}\")\n"
   ]
  },
  {
   "cell_type": "code",
   "execution_count": null,
   "metadata": {},
   "outputs": [],
   "source": []
  }
 ],
 "metadata": {
  "kernelspec": {
   "display_name": "base",
   "language": "python",
   "name": "python3"
  },
  "language_info": {
   "codemirror_mode": {
    "name": "ipython",
    "version": 3
   },
   "file_extension": ".py",
   "mimetype": "text/x-python",
   "name": "python",
   "nbconvert_exporter": "python",
   "pygments_lexer": "ipython3",
   "version": "3.11.5"
  }
 },
 "nbformat": 4,
 "nbformat_minor": 4
}
