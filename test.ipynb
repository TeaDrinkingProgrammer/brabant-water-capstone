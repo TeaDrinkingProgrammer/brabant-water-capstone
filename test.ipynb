{
 "cells": [
  {
   "cell_type": "code",
   "execution_count": null,
   "metadata": {},
   "outputs": [],
   "source": [
    "import pandas as pd\n",
    "../data/neerslag_ai/year=2023/month=1/day=1/part-00005-9ddcf8f7-f1d8-4538-9c16-d96288433639.c000.snappy.parquet"
   ]
  }
 ],
 "metadata": {
  "language_info": {
   "name": "python"
  }
 },
 "nbformat": 4,
 "nbformat_minor": 2
}
