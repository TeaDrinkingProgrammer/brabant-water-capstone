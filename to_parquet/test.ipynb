{
 "cells": [
  {
   "cell_type": "code",
   "execution_count": 15,
   "metadata": {},
   "outputs": [],
   "source": [
    "with open(\"/home/stijn/Documents/Dev/School/Jaar_4/Minor/ML5/capstone/data/waterhoogte_rucphen/RUC0011_WTH_RIO.Waterhoogte.csv\") as file_data:\n",
    "    lines = file_data.readlines()[16:]\n",
    "    counter = 0\n",
    "    \n",
    "    for line in lines:\n",
    "        import re\n",
    "\n",
    "        pattern = re.compile(r'^[^;]+;[^;]+;[^;]+;[^;]+;[^;]+$')\n",
    "\n",
    "        # Example usage\n",
    "        csv_row = 'value1;value2;value3;value4;value5'\n",
    "        if pattern.match(line):\n",
    "            print(\"Match found!: \" + lines[counter])\n",
    "        counter+1"
   ]
  },
  {
   "cell_type": "code",
   "execution_count": 26,
   "metadata": {},
   "outputs": [
    {
     "data": {
      "text/html": [
       "<div>\n",
       "<style scoped>\n",
       "    .dataframe tbody tr th:only-of-type {\n",
       "        vertical-align: middle;\n",
       "    }\n",
       "\n",
       "    .dataframe tbody tr th {\n",
       "        vertical-align: top;\n",
       "    }\n",
       "\n",
       "    .dataframe thead th {\n",
       "        text-align: right;\n",
       "    }\n",
       "</style>\n",
       "<table border=\"1\" class=\"dataframe\">\n",
       "  <thead>\n",
       "    <tr style=\"text-align: right;\">\n",
       "      <th></th>\n",
       "      <th>Date</th>\n",
       "      <th>Time</th>\n",
       "      <th>Value [mNAP]</th>\n",
       "      <th>Quality</th>\n",
       "    </tr>\n",
       "  </thead>\n",
       "  <tbody>\n",
       "    <tr>\n",
       "      <th>0</th>\n",
       "      <td>01-01-2018</td>\n",
       "      <td>00:00:47</td>\n",
       "      <td>5.92</td>\n",
       "      <td>100 (AutoValide)</td>\n",
       "    </tr>\n",
       "    <tr>\n",
       "      <th>1</th>\n",
       "      <td>01-01-2018</td>\n",
       "      <td>00:01:45</td>\n",
       "      <td>5.92</td>\n",
       "      <td>100 (AutoValide)</td>\n",
       "    </tr>\n",
       "    <tr>\n",
       "      <th>2</th>\n",
       "      <td>01-01-2018</td>\n",
       "      <td>00:02:44</td>\n",
       "      <td>5.92</td>\n",
       "      <td>100 (AutoValide)</td>\n",
       "    </tr>\n",
       "    <tr>\n",
       "      <th>3</th>\n",
       "      <td>01-01-2018</td>\n",
       "      <td>00:03:44</td>\n",
       "      <td>5.92</td>\n",
       "      <td>100 (AutoValide)</td>\n",
       "    </tr>\n",
       "    <tr>\n",
       "      <th>4</th>\n",
       "      <td>01-01-2018</td>\n",
       "      <td>00:04:42</td>\n",
       "      <td>5.92</td>\n",
       "      <td>100 (AutoValide)</td>\n",
       "    </tr>\n",
       "  </tbody>\n",
       "</table>\n",
       "</div>"
      ],
      "text/plain": [
       "         Date      Time  Value [mNAP]           Quality\n",
       "0  01-01-2018  00:00:47          5.92  100 (AutoValide)\n",
       "1  01-01-2018  00:01:45          5.92  100 (AutoValide)\n",
       "2  01-01-2018  00:02:44          5.92  100 (AutoValide)\n",
       "3  01-01-2018  00:03:44          5.92  100 (AutoValide)\n",
       "4  01-01-2018  00:04:42          5.92  100 (AutoValide)"
      ]
     },
     "execution_count": 26,
     "metadata": {},
     "output_type": "execute_result"
    }
   ],
   "source": [
    "import pandas as pd\n",
    "df = pd.read_csv(\"/home/stijn/Documents/Dev/School/Jaar_4/Minor/ML5/capstone/data/waterhoogte_rucphen/RUC0011_WTH_RIO.Waterhoogte.csv\", sep=';',skiprows=15)\n",
    "df.head()"
   ]
  }
 ],
 "metadata": {
  "kernelspec": {
   "display_name": "ds",
   "language": "python",
   "name": "python3"
  },
  "language_info": {
   "codemirror_mode": {
    "name": "ipython",
    "version": 3
   },
   "file_extension": ".py",
   "mimetype": "text/x-python",
   "name": "python",
   "nbconvert_exporter": "python",
   "pygments_lexer": "ipython3",
   "version": "3.12.0"
  }
 },
 "nbformat": 4,
 "nbformat_minor": 2
}
